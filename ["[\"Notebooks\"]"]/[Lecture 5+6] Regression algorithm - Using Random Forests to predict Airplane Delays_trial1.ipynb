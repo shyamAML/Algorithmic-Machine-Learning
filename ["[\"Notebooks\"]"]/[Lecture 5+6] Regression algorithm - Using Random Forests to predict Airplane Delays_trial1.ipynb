{
 "cells": [
  {
   "cell_type": "markdown",
   "metadata": {},
   "source": [
    "<div>\n",
    "<h1>Run the cell below to generate the road map (do not modify it)</h1></div>"
   ]
  },
  {
   "cell_type": "code",
   "execution_count": 3,
   "metadata": {
    "collapsed": false
   },
   "outputs": [
    {
     "data": {
      "application/javascript": [
       "var kernel = IPython.notebook.kernel;var thename = window.document.getElementById(\"notebook_name\").innerHTML;var command = \"THE_NOTEBOOK = \" + \"'\"+thename+\"'\";kernel.execute(command);command=\"os.environ['THE_NOTEBOOK'] = THE_NOTEBOOK\";kernel.execute(command);var cell = IPython.notebook.get_cell(2);cell.execute();IPython.notebook.get_cell(3).focus_cell();var x = $('.code_cell');$(x[1]).children('.input').hide();"
      ],
      "text/plain": [
       "<IPython.core.display.Javascript object>"
      ]
     },
     "metadata": {},
     "output_type": "display_data"
    }
   ],
   "source": [
    "%%javascript\n",
    "var kernel = IPython.notebook.kernel;var thename = window.document.getElementById(\"notebook_name\").innerHTML;var command = \"THE_NOTEBOOK = \" + \"'\"+thename+\"'\";kernel.execute(command);command=\"os.environ['THE_NOTEBOOK'] = THE_NOTEBOOK\";kernel.execute(command);var cell = IPython.notebook.get_cell(2);cell.execute();IPython.notebook.get_cell(3).focus_cell();var x = $('.code_cell');$(x[1]).children('.input').hide();"
   ]
  },
  {
   "cell_type": "code",
   "execution_count": 4,
   "metadata": {
    "collapsed": false
   },
   "outputs": [
    {
     "data": {
      "text/html": [
       "\n",
       "   <script src=\"http://code.jquery.com/jquery-latest.min.js\" type=\"text/javascript\"></script>\n",
       "   <script>\n",
       "      (function($){\n",
       "         $(document).ready(function(){\n",
       "\n",
       "         $('#cssmenu li.active').addClass('open').children('ul').show();\n",
       "            $('#cssmenu li.has-sub>a').on('click', function(){\n",
       "               $(this).removeAttr('href');\n",
       "               var margin_left = parseInt($(this).css('padding-left').replace('px', ''));\n",
       "               var element = $(this).parent('li');\n",
       "               if (element.hasClass('open')) {\n",
       "                  element.removeClass('open');\n",
       "                  element.find('li').removeClass('open');\n",
       "                  element.find('ul').slideUp(200);\n",
       "               }\n",
       "               else {\n",
       "                  element.addClass('open');\n",
       "                  element.children('ul').slideDown(200);\n",
       "                  element.siblings('li').children('ul').slideUp(200);\n",
       "                  element.siblings('li').removeClass('open');\n",
       "                  element.siblings('li').find('li').removeClass('open');\n",
       "                  element.siblings('li').find('ul').slideUp(200);\n",
       "                  element.children().find('a').css('padding-left', margin_left + 16 + \"px\");\n",
       "               }\n",
       "            });\n",
       "\n",
       "            var screen_height = $(window).height(); \n",
       "            var headerHeight = $(\"#header\").outerHeight();\n",
       "            var max_height_menu = screen_height - headerHeight;\n",
       "            $(\"#cssmenu\").css('max-height', max_height_menu + 'px');\n",
       "            $(\"#cssmenu\").css('top', headerHeight + 'px');\n",
       "            $(\"#menu-activator\").css('top', headerHeight + 'px');\n",
       "            $(\"#cssmenu\").show();\n",
       "            $(\"#menu-activator\").hide();\n",
       "\n",
       "\n",
       "            $(\"#menu-activator\").mouseover(function(){\n",
       "              $(\"#cssmenu\").show();\n",
       "              $(\"#menu-activator\").hide();\n",
       "            });\n",
       "\n",
       "\n",
       "            $(\"#cssmenu\").mouseleave(function(){\n",
       "              $(\"#cssmenu\").hide();\n",
       "              $(\"#menu-activator\").show();\n",
       "            });\n",
       "\n",
       "            $(\"div.anchor\").parent('div').addClass('bcolor');\n",
       "\n",
       "         });\n",
       "      })(jQuery);\n",
       "   </script>\n",
       "   <style>\n",
       "      @import url(http://fonts.googleapis.com/css?family=Raleway:400,200);\n",
       "      #cssmenu,\n",
       "      #cssmenu ul,\n",
       "      #cssmenu ul li,\n",
       "      #cssmenu ul li a {\n",
       "        margin: 0;\n",
       "        padding: 0;\n",
       "        border: 0;\n",
       "        list-style: none;\n",
       "        line-height: 1;\n",
       "        display: block;\n",
       "        position: relative;\n",
       "        -webkit-box-sizing: border-box;\n",
       "        -moz-box-sizing: border-box;\n",
       "        box-sizing: border-box;\n",
       "      }\n",
       "      #cssmenu {\n",
       "        width: 220px;\n",
       "        font-family: Raleway, sans-serif;\n",
       "        color: #ffffff;\n",
       "        max-height:600px;\n",
       "        overflow-y:scroll;\n",
       "        overflow-x:hidden;\n",
       "        position:fixed;\n",
       "        top:130px;\n",
       "        left:0px;\n",
       "      }\n",
       "      #cssmenu ul ul {\n",
       "        display: none;\n",
       "      }\n",
       "      #cssmenu > ul > li.active > ul {\n",
       "        display: block;\n",
       "      }\n",
       "      .align-right {\n",
       "        float: right;\n",
       "      }\n",
       "      #cssmenu > ul > li > a {\n",
       "        padding: 16px 22px;\n",
       "        cursor: pointer;\n",
       "        z-index: 2;\n",
       "        font-size: 16px;\n",
       "        text-decoration: none;\n",
       "        color: #ffffff;\n",
       "        background: #565656;\n",
       "        -webkit-transition: color .2s ease;\n",
       "        -o-transition: color .2s ease;\n",
       "        transition: color .2s ease;\n",
       "      }\n",
       "      #cssmenu > ul > li > a:hover {\n",
       "        color: #d8f3f0;\n",
       "      }\n",
       "      #cssmenu ul > li.has-sub > a:after {\n",
       "        position: absolute;\n",
       "        right: 26px;\n",
       "        top: 19px;\n",
       "        z-index: 5;\n",
       "        display: block;\n",
       "        height: 10px;\n",
       "        width: 2px;\n",
       "        background: #ffffff;\n",
       "        content: \"\";\n",
       "        -webkit-transition: all 0.1s ease-out;\n",
       "        -moz-transition: all 0.1s ease-out;\n",
       "        -ms-transition: all 0.1s ease-out;\n",
       "        -o-transition: all 0.1s ease-out;\n",
       "        transition: all 0.1s ease-out;\n",
       "      }\n",
       "      #cssmenu ul > li.has-sub > a:before {\n",
       "        position: absolute;\n",
       "        right: 22px;\n",
       "        top: 23px;\n",
       "        display: block;\n",
       "        width: 10px;\n",
       "        height: 2px;\n",
       "        background: #ffffff;\n",
       "        content: \"\";\n",
       "        -webkit-transition: all 0.1s ease-out;\n",
       "        -moz-transition: all 0.1s ease-out;\n",
       "        -ms-transition: all 0.1s ease-out;\n",
       "        -o-transition: all 0.1s ease-out;\n",
       "        transition: all 0.1s ease-out;\n",
       "      }\n",
       "      #cssmenu ul > li.has-sub.open > a:after,\n",
       "      #cssmenu ul > li.has-sub.open > a:before {\n",
       "        -webkit-transform: rotate(45deg);\n",
       "        -moz-transform: rotate(45deg);\n",
       "        -ms-transform: rotate(45deg);\n",
       "        -o-transform: rotate(45deg);\n",
       "        transform: rotate(45deg);\n",
       "      }\n",
       "      #cssmenu ul ul li a {\n",
       "        padding: 14px 22px;\n",
       "        cursor: pointer;\n",
       "        z-index: 2;\n",
       "        font-size: 14px;\n",
       "        text-decoration: none;\n",
       "        color: #dddddd;\n",
       "        background: #49505a;\n",
       "        -webkit-transition: color .2s ease;\n",
       "        -o-transition: color .2s ease;\n",
       "        transition: color .2s ease;\n",
       "      }\n",
       "      #cssmenu ul ul ul li a {\n",
       "        /*padding-left: 32px;*/\n",
       "      }\n",
       "      #cssmenu ul ul li a:hover {\n",
       "        color: #ffffff;\n",
       "      }\n",
       "      #cssmenu ul ul > li.has-sub > a:after {\n",
       "        top: 16px;\n",
       "        right: 26px;\n",
       "        background: #dddddd;\n",
       "      }\n",
       "      #cssmenu ul ul > li.has-sub > a:before {\n",
       "        top: 20px;\n",
       "        background: #dddddd;\n",
       "      }\n",
       "      #menu-activator {\n",
       "        position: fixed;\n",
       "        top: 130px;\n",
       "        left: 0px;\n",
       "        width: 60px;\n",
       "        padding: 16px 20px;\n",
       "        display: block;\n",
       "        background-color: #565656;\n",
       "        font-size: 16px;\n",
       "        color: white;\n",
       "      }\n",
       "\n",
       "      div.bcolor, span.bcolor {\n",
       "      \tborder-radius: 15px; \n",
       "      \tbackground: rgb(224,239,130);\n",
       "      \tpadding:10px;\n",
       "      }\n",
       "\n",
       "      div.answer, div.comment, div.note {\n",
       "        background-color: rgb(255, 235, 218);\n",
       "        padding: 10px;\n",
       "        border-radius: 5px;\n",
       "      }\n",
       "\n",
       "      div.comment::before, div.answer::before, div.note::before {\n",
       "          background-color: yellow;\n",
       "          color: red;\n",
       "          font-weight: bold;\n",
       "          margin-right:5px;\n",
       "          padding:3px;\n",
       "      }\n",
       "\n",
       "      div.comment::before {\n",
       "        content: \"Comment:\";\n",
       "      }\n",
       "\n",
       "      div.answer::before {\n",
       "        content: \"Answer:\";\n",
       "      }\n",
       "\n",
       "      div.note::before {\n",
       "        content: \"Note:\";\n",
       "      }\n",
       "\n",
       "      @media print{\n",
       "      \t#cssmenu {\n",
       "      \t\tdisplay:none;\n",
       "      \t}\n",
       "      }\n",
       "   </style>\n",
       "   <title>Roadmap</title>\n",
       "</head>\n",
       "<body>\n",
       "<div id=\"menu-activator\">O</div>\n",
       "<div id='cssmenu'>\n",
       "<ul>\n",
       "<li class='has-sub'><a href=\"#\">ROADMAP</a>\n",
       "<ul><li><a href='#Goals'>Goals</a></li><li><a href='#Steps'>Steps</a></li><li class='has-sub'><a href='#1.-Decision-trees-and-Random-Forests:-Simple-but-Powerful-Algorithms'>1. Decision trees and Random Forests: Simple but Powerful Algorithms</a><ul><li><a href='#1.1-Feature-definition'>1.1 Feature definition</a></li><li><a href='#1.2-Decision-Trees-&-Random-Forests'>1.2 Decision Trees & Random Forests</a></li></ul></li><li class='has-sub'><a href='#2.-Usecase-:-Flights-delay-prediction'>2. Usecase : Flights delay prediction</a><ul><li><a href='#2.1-Context'>2.1 Context</a></li><li><a href='#2.2-Data'>2.2 Data</a></li><li><a href='#2.3-Methodology'>2.3 Methodology</a></li></ul></li><li class='has-sub'><a href='#3.-Let's-play:-Data-Exploration'>3. Let's play: Data Exploration</a><ul><li><a href='#3.1-Understanding-the-data-schema'>3.1 Understanding the data schema</a></li><li class='has-sub'><a href='#3.2-Data-cleaning'>3.2 Data cleaning</a><ul><li class='has-sub'><a href='#Question-1'>Question 1</a><ul><li><a href='#Question-1.1'>Question 1.1</a></li><li><a href='#Question-1.2'>Question 1.2</a></li></ul></li></ul></li><li class='has-sub'><a href='#3.3-Transforming-our-data-to-a-DataFrame'>3.3 Transforming our data to a DataFrame</a><ul><li><a href='#Question-2'>Question 2</a></li></ul></li><li class='has-sub'><a href='#3.4-Descriptive-statistics'>3.4 Descriptive statistics</a><ul><li class='has-sub'><a href='#Question-3:-Basic-queries'>Question 3: Basic queries</a><ul><li><a href='#Question-3.1'>Question 3.1</a></li><li><a href='#Question-3.2'>Question 3.2</a></li><li><a href='#Question-3.3'>Question 3.3</a></li></ul></li><li class='has-sub'><a href='#Question-4:-Flight-volume-statistics'>Question 4: Flight volume statistics</a><ul><li><a href='#Question-4.1:'>Question 4.1:</a></li><li><a href='#Question-4.2:'>Question 4.2:</a></li><li><a href='#Question-4.3'>Question 4.3</a></li><li><a href='#Question-4.4'>Question 4.4</a></li><li><a href='#Question-4.5'>Question 4.5</a></li></ul></li><li class='has-sub'><a href='#Question-5'>Question 5</a><ul><li><a href='#Question-5.1'>Question 5.1</a></li><li><a href='#Question-5.2'>Question 5.2</a></li><li><a href='#Question-5.3'>Question 5.3</a></li><li><a href='#Question-5.4'>Question 5.4</a></li><li><a href='#Question-5.5'>Question 5.5</a></li><li><a href='#Question-5.6'>Question 5.6</a></li><li><a href='#Question-5.7'>Question 5.7</a></li><li><a href='#Question-5.8'>Question 5.8</a></li></ul></li></ul></li></ul></li><li class='has-sub'><a href='#4.-Building-a-model-of-our-data'>4. Building a model of our data</a><ul><li class='has-sub'><a href='#4.1-Mapping-values-of-each-categorical-feature-to-indices'>4.1 Mapping values of each categorical feature to indices</a><ul><li class='has-sub'><a href='#Question-6'>Question 6</a><ul><li><a href='#Question-6.1'>Question 6.1</a></li><li><a href='#Question-6.2'>Question 6.2</a></li><li><a href='#Question-6.3'>Question 6.3</a></li></ul></li></ul></li><li class='has-sub'><a href='#4.2-Calculating-the-most-common-value-of-each-feature'>4.2 Calculating the most common value of each feature</a><ul><li class='has-sub'><a href='#Question-7'>Question 7</a><ul><li><a href='#Question-7.1'>Question 7.1</a></li><li><a href='#Question-7.2'>Question 7.2</a></li><li><a href='#Question-7.3'>Question 7.3</a></li><li><a href='#Question-7.4'>Question 7.4</a></li><li><a href='#Question-7.5'>Question 7.5</a></li></ul></li></ul></li><li class='has-sub'><a href='#4.3-Preparing-training-data-and-testing-data'>4.3 Preparing training data and testing data</a><ul><li><a href='#Question-8'>Question 8</a></li></ul></li><li class='has-sub'><a href='#5.4-Building-a-decision-tree-model'>5.4 Building a decision tree model</a><ul><li><a href='#Question-9'>Question 9</a></li></ul></li><li class='has-sub'><a href='#5.5-Testing-the-decision-tree-model'>5.5 Testing the decision tree model</a><ul><li class='has-sub'><a href='#Question-10'>Question 10</a><ul><li><a href='#Question-10.1'>Question 10.1</a></li></ul></li><li><a href='#Question-10.2'>Question 10.2</a></li></ul></li><li class='has-sub'><a href='#5.6-Building-random-decision-forest-model-(or-random-forest)'>5.6 Building random decision forest model (or random forest)</a><ul><li><a href='#Question-11'>Question 11</a></li></ul></li><li class='has-sub'><a href='#5.7-Parameter-tuning'>5.7 Parameter tuning</a><ul><li><a href='#Question-12'>Question 12</a></li></ul></li></ul></li><li class='has-sub'><a href='#6.-Addition-(bonus)-questions'>6. Addition (bonus) questions</a><ul><li><a href='#6.1.-Additional-data'>6.1. Additional data</a></li><li class='has-sub'><a href='#6.2.-Feature-selection'>6.2. Feature selection</a><ul><li><a href='#Question-13'>Question 13</a></li></ul></li></ul></li><li><a href='#Summary'>Summary</a></li></ul>\n",
       "</li>\n",
       "<li class='has-sub'><a href=\"#\">QUESTIONS</a>\n",
       "<ul><li class='has-sub'><a href='#Question-1'>Question 1</a><ul><li><a href='#Question-1.1'>Question 1.1</a></li><li><a href='#Question-1.2'>Question 1.2</a></li></ul></li><li><a href='#Question-2'>Question 2</a></li><li class='has-sub'><a href='#Question-3:-Basic-queries'>Question 3: Basic queries</a><ul><li><a href='#Question-3.1'>Question 3.1</a></li><li><a href='#Question-3.2'>Question 3.2</a></li><li><a href='#Question-3.3'>Question 3.3</a></li></ul></li><li class='has-sub'><a href='#Question-4:-Flight-volume-statistics'>Question 4: Flight volume statistics</a><ul><li><a href='#Question-4.1:'>Question 4.1:</a></li><li><a href='#Question-4.2:'>Question 4.2:</a></li><li><a href='#Question-4.3'>Question 4.3</a></li><li><a href='#Question-4.4'>Question 4.4</a></li><li><a href='#Question-4.5'>Question 4.5</a></li></ul></li><li class='has-sub'><a href='#Question-5'>Question 5</a><ul><li><a href='#Question-5.1'>Question 5.1</a></li><li><a href='#Question-5.2'>Question 5.2</a></li><li><a href='#Question-5.3'>Question 5.3</a></li><li><a href='#Question-5.4'>Question 5.4</a></li><li><a href='#Question-5.5'>Question 5.5</a></li><li><a href='#Question-5.6'>Question 5.6</a></li><li><a href='#Question-5.7'>Question 5.7</a></li><li><a href='#Question-5.8'>Question 5.8</a></li></ul></li><li class='has-sub'><a href='#Question-6'>Question 6</a><ul><li><a href='#Question-6.1'>Question 6.1</a></li><li><a href='#Question-6.2'>Question 6.2</a></li><li><a href='#Question-6.3'>Question 6.3</a></li></ul></li><li class='has-sub'><a href='#Question-7'>Question 7</a><ul><li><a href='#Question-7.1'>Question 7.1</a></li><li><a href='#Question-7.2'>Question 7.2</a></li><li><a href='#Question-7.3'>Question 7.3</a></li><li><a href='#Question-7.4'>Question 7.4</a></li><li><a href='#Question-7.5'>Question 7.5</a></li></ul></li><li><a href='#Question-8'>Question 8</a></li><li><a href='#Question-9'>Question 9</a></li><li class='has-sub'><a href='#Question-10'>Question 10</a><ul><li><a href='#Question-10.1'>Question 10.1</a></li><li><a href='#Question-10.2'>Question 10.2</a></li></ul></li><li><a href='#Question-11'>Question 11</a></li><li><a href='#Question-12'>Question 12</a></li><li><a href='#6.-Addition-(bonus)-questions'>6. Addition (bonus) questions</a></li><li><a href='#Question-13'>Question 13</a></li></ul>\n",
       "</li>\n",
       "</ul>\n",
       "</div>\n",
       "\n"
      ],
      "text/plain": [
       "<IPython.core.display.HTML object>"
      ]
     },
     "execution_count": 4,
     "metadata": {},
     "output_type": "execute_result"
    }
   ],
   "source": [
    "outputdir = \"/tmp/tools/\"\n",
    "!mkdir -p $outputdir\n",
    "!wget \"https://www.dropbox.com/s/4g0pigmro4vo1b4/menutemplate?dl=0\" -O /tmp/tools/menutemplate >> /tmp/toollog 2>&1 \n",
    "!wget \"https://www.dropbox.com/s/3flttpzhsja8td7/construct_menu.py?dl=0\" -O /tmp/tools/construct_menu.py >> /tmp/toollog 2>&1 \n",
    "!python /tmp/tools/construct_menu.py \"{THE_NOTEBOOK}.ipynb\" {outputdir}\n",
    "from IPython.core.display import HTML\n",
    "output_file_name = outputdir + THE_NOTEBOOK.replace(\" \", \"\").replace(\"[\", \"\").replace(\"]\", \"\") + \".ipynb.html\"\n",
    "with open(output_file_name) as fp:\n",
    "    html = fp.read()\n",
    "HTML(html)"
   ]
  },
  {
   "cell_type": "markdown",
   "metadata": {},
   "source": [
    "In this notebook, we will learn how to solve the regression problem of predicting flight delays, using decision trees and random forests.\n",
    "\n",
    "# Goals\n",
    "The main goals of this project are as follows:\n",
    "1. Revisit the concepts behind Decision Trees and Random Forests\n",
    "2. Build a simple methodology to address Data Science projects\n",
    "3. Use the existing implementation of Random Forests in MLLib in a specific use case, that is to predict the delay of flights\n",
    "\n",
    "# Steps\n",
    "\n",
    "- First, in section 1, we will go through a short introduction about the fudamentals of Decision Trees and Random Forsests, such as feature definition, the form of a decision tree, how does it work and the idea of a forest of decision trees. If the student is familiar with these topics, skip to section 2.\n",
    "- In section 2, we delve into the details of the use case of this notebook including: providing the context, introducing the data and the basic methodology to address the project in this notebook\n",
    "- In section 3, we perform data exploration\n",
    "- In section 4, we build the statistical model and validate it"
   ]
  },
  {
   "cell_type": "markdown",
   "metadata": {},
   "source": [
    "# 1. Decision trees and Random Forests: Simple but Powerful Algorithms\n",
    "> Prediction is very difficult, especially if it’s about the future. (Niels Bohr)\n",
    "\n",
    "Decision trees are a very popular approach to prediction problems. Decision trees can be trained from both categorical and numerical features, to perform classification and regression. Classification and regression are the oldest and most well-studied types of predictive analytics. In many analytics packages and libraries, most algorithms are devoted either to address classification or regression problems, and they include for example support vector machines (SVM), neural networks, naïve Bayes, logistic regression, and deep learning...\n",
    "\n",
    "In general, classification refers to the problem of predicting a label, or category, like *spam/not spam*, *rainy/sunny/mild*, for some given data. Regression refers to predicting a numeric quantity like salary, temperature, delay time, product's price. Both classification and regression involve predicting one (or more) values given one (or more) other input values. They require labelled data to perform a training phase, which builds the statistical model: they belong to *supervised learning* techniques.\n",
    "\n",
    "## 1.1 Feature definition\n",
    "To understand how regression and classification operate, it is necessary to briefly define the terms that describe their input and output. \n",
    "\n",
    "Assume that we want to predict the temperature of tomorrow given today's weather information.\n",
    "The weather information is a loose concept. For example, we can use many variables to express today's weather such as:\n",
    "* the average humidity today\n",
    "* today’s high temperature\n",
    "* today’s low temperature \n",
    "* wind speed\n",
    "* outlook: e.g. cloudy, rainy, or clear\n",
    "* ....\n",
    "\n",
    "These variables are called *features* or *demensions*. \n",
    "\n",
    "Each variable can be quantified. For example, high and low temperatures are measured in degrees Celsius, humidity can be measured as a fraction between 0 and 1, and weather type can be labeled `cloudy`, `rainy` or `clear`...\n",
    "So, the weather today can be expressed by a list of values: `11.4, 18.0, 0.64, 20, cloudy`\n",
    "Each feature is also called a `predictor`. Together, they constitute a `feature vector`.\n",
    "\n",
    "A feature whose domain is a set of categories is called **categorical feature**. In our example, `outlook` is a  categorical feature. A feature whose values are numerical is called **numerical feature**. In our example, `temperature` is a numerical feature.\n",
    "\n",
    "Finally, tomorrow's temperature, that is what we want to predict, is called *target feature*.\n",
    "\n",
    "## 1.2 Decision Trees & Random Forests\n",
    "The first question that you might ask is: \"Why Decision trees and not another approach?\"\n",
    "\n",
    "Well, the literature shows that the family of algorithms known as decision trees can naturally handle both categorical and numeric features. The training process is easy to understand. The model is easy to interpret. They are robust to outliers in the data, meaning that a few extreme and possibly erroneous data points should not affect the tree at all. The model can be trained in parallel easily. The accuracy is comparable to other methods... In short, there are lots of advantages when using decision trees with respect to other methods! \n",
    "\n",
    "The way we use a tree model is very simple to understand. We can say that this process \"mimics\" the way humans take decisions. For example, to decide whether to play football or not, a natural questions would be \"does it rain now ?\". If yes, the decision is `no`. If it's sunny, the condition is favorable to play football. A second natural question could be: \"is it windy?\". If no, then you may want to stay at home because otherwise it is going to be too hot. Otherwise, a third plausible question could be: \"do we have enough people?\". If no, then there's no point playing. Otherwise, time to play!\n",
    "\n",
    "Using a decision tree allows to follow a similar process to that described above (see the image below). Given a new input, the algorithm traverses the tree in a such a way that the input satisfies the condition of each node until reaching a leaf one. The value of the leaf node is the decision.\n",
    "\n",
    "![A decision tree](https://farm2.staticflickr.com/1690/24308350756_8533286fb5_z.jpg)\n",
    "\n",
    "The tree model in the figure is built from historical information concerning many past days. The `feature predictor` contains three features: Rain, Is_Windy, Enough_People.\n",
    "An example of the training data is as follows:\n",
    "\n",
    "Rain | Is_Windy | Enough_People | Play\n",
    "-----|----------|---------------|------\n",
    "Yes | Yes | No | No\n",
    "No  | No | No | No\n",
    "No | Yes | Yes | Yes\n",
    "No | No | Yes | No\n",
    "\n",
    "As you can see, in the training data, we know the values of predictors and we also know the corresponding answer: we have the ground truth.\n",
    "\n",
    "One limitation of decision trees is that it's easy to incur in overfitting problems. In other words, the model is too fit to the training data, it is too precise and not general enough. So, when testing the quality of predictions with different testing sets, accuracy could fluctuate. To overcome this limitation, the tree can be pruned after it is built, or even be pruned during the training process. Another approach is building a `Random Decision Forest`.\n",
    "\n",
    "A `Random Decision Forest`, as its name implies, is a forest of random Decision trees. Each tree element is built randomly from the training data. Randomization generally applies to:\n",
    "* Building new training data: Random selectiion of samples from the training data (with replacement) from the original training data\n",
    "* When building a node: Random selection of a subset of features\n",
    "\n",
    "To take a decision, the forest \"asks\" all trees about their prediction, and then chooses the outcome which is the most voted."
   ]
  },
  {
   "cell_type": "markdown",
   "metadata": {},
   "source": [
    "# 2. Usecase : Flights delay prediction\n",
    "## 2.1 Context\n",
    "Every day, in US, there are thousands of flights departures and arrivals: unfortunately, as you may have noticed yourself, flight delays are not a rare event!! Now, given historical data about flights in the country, including the delay information that was computed *a-posteriori* (so the ground truth is available), we want to build a model that can be used to predict how many minutes of delay a flight might experience in the future. This model should provide useful information for the airport to manage better its resources, to minimize the delays and their impact on the jurney of its passengers. Alternatively, astute passengers could even use the model to choose the best time for flying, such as to avoid delays.\n",
    "\n",
    "## 2.2 Data\n",
    "The data we will use in this notebook has been collected by the RITA (Research and Inovative Technology Administration), and it contains details facets about each air flight that happened in the US between 1987 and 2008. It includes 29 variables such as the origin airport, the destination airport, the scheduled departured time, day, month, the arrival delay... For more information, please visit the following [link](http://stat-computing.org/dataexpo/2009/the-data.html), that provides a lot of detail on the data. Our goal is to build a model to predict `the arrival delay`."
   ]
  },
  {
   "cell_type": "markdown",
   "metadata": {},
   "source": [
    "## 2.3 Methodology\n",
    "For our project, we can follow a simple methodology:\n",
    "\n",
    "- Understand clearly the context, the data and the goal of the project\n",
    "- Pre-process the data (data cleaning): the data can contain invalid values or missing values. We have to process our data to deal with them\n",
    "- Retrieve descriptive information about data: the idea is to discover if whether the data has patterns, whether features have patterns, the skew of values...\n",
    "- Select appropriate features: Only work with significant features will save us memory, communication cost, and ultimately, training time. Feature selection is also important as it can reduce the impact of noise that characterize the unimportant features.\n",
    "- Divide the data into training and testing set\n",
    "- Build a model from the feature in the training set\n",
    "- Test the model"
   ]
  },
  {
   "cell_type": "markdown",
   "metadata": {},
   "source": [
    "# 3. Let's play: Data Exploration\n",
    "Now it's time to apply the simple methodology outlined in section 2.3 on the usecase of this notebook.\n",
    "\n",
    "**Note:** The source code in this lecture should be executed sequentially in the order."
   ]
  },
  {
   "cell_type": "markdown",
   "metadata": {},
   "source": [
    "## 3.1 Understanding the data schema\n",
    "\n",
    "The data has 29 features, that can be either categorical or numerical. For example, the `src_airport` (source airport) is categorical: there exist no comparision operator between airport names. We can not say \"SGN is bigger than NCE\". The departure is numerical, for which a comparison operator exists. For instance, \"flight departing before 6PM\" can be express by \"departure_time < 1800\".\n",
    "\n",
    "In this usecase, most features are numerical, except `carier`, `flight_number`, `cancelled`, `cancelation_code` and `diverted`. \n",
    "\n",
    "The data contains a header, that is useless in building the statistical model. In addition, we already know the data schema, so we can safely neglect it. Note that there are some features with missing values in some lines of the dataset. The missing values are marked by \"NA\". These values can cause problems when processing and can lead to unexpected results. Therefore, we need to remove the header and replace all \"NA\" values by empty values, such as they can be interpreted as null values.\n",
    "\n",
    "As we have seen already, there are multiple ways to manipulate data:\n",
    "\n",
    "- Using the RDD abstraction\n",
    "- Using the DataFrame abstraction. DataFrames can be thought of as distributed tables: each item is a list of values  (the columns). Also, the value in each row of each column can be accesed by the column's name.\n",
    "\n",
    "Next, we will focus on using DataFrames. However, to use DataFrames, the data must be clean (no invalid values). That means we can not create DataFrame directly from the \"RAW\" data. Instead, we will first create an RDD from RAW data, produce a new, clean RDD, then transform it to a DataFrame and work on it. The RDD `cleaned_data` is an RDD[String]. We need to transform it to RDD[(TypeOfColumn1, TypeOfColumn2,.., TypeOfColumn29)] then call a function to create a DataFrame from the new RDD.\n"
   ]
  },
  {
   "cell_type": "markdown",
   "metadata": {},
   "source": [
    "## 3.2 Data cleaning\n",
    "Let's prepare for the cleaning step: Loading the data into an RDD.\n",
    "\n",
    "First, we need to import some useful python modules for this notebook."
   ]
  },
  {
   "cell_type": "code",
   "execution_count": 5,
   "metadata": {
    "collapsed": false
   },
   "outputs": [],
   "source": [
    "import os\n",
    "import sys\n",
    "import re\n",
    "from pyspark import SparkContext\n",
    "from pyspark import SparkContext\n",
    "from pyspark.sql import SQLContext\n",
    "from pyspark.sql.types import *\n",
    "from pyspark.sql import Row\n",
    "from pyspark.sql.functions import *\n",
    "%matplotlib inline\n",
    "import matplotlib.pyplot as plt\n",
    "import pandas as pd\n",
    "import numpy as np\n",
    "import pyspark.sql.functions as func\n",
    "import matplotlib.patches as mpatches\n",
    "\n",
    "# to start testing, we can focus on a single year\n",
    "input_path = \"/datasets/airline/1994.csv\"\n",
    "raw_data = sc.textFile(input_path)"
   ]
  },
  {
   "cell_type": "markdown",
   "metadata": {},
   "source": [
    "![](https://farm2.staticflickr.com/1604/24934700445_833f0a5649_t.jpg)"
   ]
  },
  {
   "cell_type": "markdown",
   "metadata": {},
   "source": [
    "<div class='anchor' ></div>\n",
    "### Question 1 \n",
    "Remove the header and replace the invalid values in our input dataset.\n",
    "\n",
    "#### Question 1.1\n",
    "How many records (rows) in the RAW data ?"
   ]
  },
  {
   "cell_type": "code",
   "execution_count": 7,
   "metadata": {
    "collapsed": false
   },
   "outputs": [
    {
     "name": "stdout",
     "output_type": "stream",
     "text": [
      "number of rows before cleaning: 5180049\n"
     ]
    }
   ],
   "source": [
    "\n",
    "print(\"number of rows before cleaning:\", raw_data.count())\n"
   ]
  },
  {
   "cell_type": "markdown",
   "metadata": {},
   "source": [
    "<div class='anchor' ></div>\n",
    "#### Question 1.2\n",
    "Except for the first column, the others might contain missing values, which are denoted by `NA`. Remove the header and replace NA by an empty character. How many records are left after cleaning the RAW dataset?\n",
    "\n",
    "NOTE: be careful with the valid values that can contain string `NA` inside.\n",
    "\n"
   ]
  },
  {
   "cell_type": "code",
   "execution_count": 43,
   "metadata": {
    "collapsed": false
   },
   "outputs": [
    {
     "name": "stdout",
     "output_type": "stream",
     "text": [
      "number of rows after cleaning: 5180048\n"
     ]
    }
   ],
   "source": [
    "\n",
    "# extract the header\n",
    "header = raw_data.first()\n",
    "\n",
    "# replace invalid data with NULL and remove header\n",
    "cleaned_data = (raw_data\\\n",
    "        # filter out the header\n",
    "        .filter(lambda x: x!=header)\n",
    "        # replace the missing values with empty characters\n",
    "        .map(lambda x:x.replace(\",NA\",\",\"))\n",
    "        )\n",
    "        \n",
    "print(\"number of rows after cleaning:\", cleaned_data.count())\n"
   ]
  },
  {
   "cell_type": "markdown",
   "metadata": {},
   "source": [
    "## 3.3 Transforming our data to a DataFrame\n",
    "\n",
    "Now the data is clean, valid and can be used to create DataFrame. First, we will declare the data schema for the DataFrame. By doing that, we can specify the name and data type of each column."
   ]
  },
  {
   "cell_type": "code",
   "execution_count": 44,
   "metadata": {
    "collapsed": true
   },
   "outputs": [],
   "source": [
    "sqlContext = SQLContext(sc)\n",
    "\n",
    "\n",
    "# Declare the data schema\n",
    "# see http://stat-computing.org/dataexpo/2009/the-data.html\n",
    "# for more information\n",
    "airline_data_schema = StructType([ \\\n",
    "    #StructField( name, dataType, nullable)\n",
    "    StructField(\"year\",                     IntegerType(), True), \\\n",
    "    StructField(\"month\",                    IntegerType(), True), \\\n",
    "    StructField(\"day_of_month\",             IntegerType(), True), \\\n",
    "    StructField(\"day_of_week\",              IntegerType(), True), \\\n",
    "    StructField(\"departure_time\",           IntegerType(), True), \\\n",
    "    StructField(\"scheduled_departure_time\", IntegerType(), True), \\\n",
    "    StructField(\"arrival_time\",             IntegerType(), True), \\\n",
    "    StructField(\"scheduled_arrival_time\",   IntegerType(), True), \\\n",
    "    StructField(\"carrier\",                  StringType(),  True), \\\n",
    "    StructField(\"flight_number\",            StringType(),  True), \\\n",
    "    StructField(\"tail_number\",              StringType(), True), \\\n",
    "    StructField(\"actual_elapsed_time\",      IntegerType(), True), \\\n",
    "    StructField(\"scheduled_elapsed_time\",   IntegerType(), True), \\\n",
    "    StructField(\"air_time\",                 IntegerType(), True), \\\n",
    "    StructField(\"arrival_delay\",            IntegerType(), True), \\\n",
    "    StructField(\"departure_delay\",          IntegerType(), True), \\\n",
    "    StructField(\"src_airport\",              StringType(),  True), \\\n",
    "    StructField(\"dest_airport\",             StringType(),  True), \\\n",
    "    StructField(\"distance\",                 IntegerType(), True), \\\n",
    "    StructField(\"taxi_in_time\",             IntegerType(), True), \\\n",
    "    StructField(\"taxi_out_time\",            IntegerType(), True), \\\n",
    "    StructField(\"cancelled\",                StringType(),  True), \\\n",
    "    StructField(\"cancellation_code\",        StringType(),  True), \\\n",
    "    StructField(\"diverted\",                 StringType(),  True), \\\n",
    "    StructField(\"carrier_delay\",            IntegerType(), True), \\\n",
    "    StructField(\"weather_delay\",            IntegerType(), True), \\\n",
    "    StructField(\"nas_delay\",                IntegerType(), True), \\\n",
    "    StructField(\"security_delay\",           IntegerType(), True), \\\n",
    "    StructField(\"late_aircraft_delay\",      IntegerType(), True)\\\n",
    "])"
   ]
  },
  {
   "cell_type": "markdown",
   "metadata": {},
   "source": [
    "To \"convert\" an RDD to DataFrame, each element in the RDD must be a list of column values that match the data schema."
   ]
  },
  {
   "cell_type": "code",
   "execution_count": 45,
   "metadata": {
    "collapsed": false
   },
   "outputs": [],
   "source": [
    "# convert each line into a tuple of features (columns)\n",
    "cleaned_data_to_columns = cleaned_data.map(lambda l: l.split(\",\"))\\\n",
    "    .map(lambda cols: \n",
    "         (\n",
    "            int(cols[0])  if cols[0] else None,\n",
    "            int(cols[1])  if cols[1] else None,\n",
    "            int(cols[2])  if cols[2] else None,\n",
    "            int(cols[3])  if cols[3] else None,\n",
    "            int(cols[4])  if cols[4] else None,\n",
    "            int(cols[5])  if cols[5] else None,\n",
    "            int(cols[6])  if cols[6] else None,\n",
    "            int(cols[7])  if cols[7] else None,\n",
    "            cols[8]       if cols[8] else None,\n",
    "            cols[9]       if cols[9] else None,\n",
    "            cols[10]      if cols[10] else None,\n",
    "            int(cols[11]) if cols[11] else None,\n",
    "            int(cols[12]) if cols[12] else None,\n",
    "            int(cols[13]) if cols[13] else None,\n",
    "            int(cols[14]) if cols[14] else None,\n",
    "            int(cols[15]) if cols[15] else None,\n",
    "            cols[16]      if cols[16] else None,\n",
    "            cols[17]      if cols[17] else None,\n",
    "            int(cols[18]) if cols[18] else None,\n",
    "            int(cols[19]) if cols[19] else None,\n",
    "            int(cols[20]) if cols[20] else None,\n",
    "            cols[21]      if cols[21] else None,\n",
    "            cols[22]      if cols[22] else None,\n",
    "            cols[23]      if cols[23] else None,\n",
    "            int(cols[24]) if cols[24] else None,\n",
    "            int(cols[25]) if cols[25] else None,\n",
    "            int(cols[26]) if cols[26] else None,\n",
    "            int(cols[27]) if cols[27] else None,\n",
    "            int(cols[28]) if cols[28] else None\n",
    "         ))"
   ]
  },
  {
   "cell_type": "markdown",
   "metadata": {},
   "source": [
    "To train our model, we use the following features: `year`, `month`, `day_of_month`, `day_of_week`, `scheduled_departure_time`, `scheduled_arrival_time`, `arrival_delay`, `distance`, `src_airport`, `dest_airport`."
   ]
  },
  {
   "cell_type": "markdown",
   "metadata": {},
   "source": [
    "![](https://farm2.staticflickr.com/1604/24934700445_833f0a5649_t.jpg)"
   ]
  },
  {
   "cell_type": "markdown",
   "metadata": {},
   "source": [
    "<div class='anchor' ></div>\n",
    "### Question 2\n",
    "\n",
    "From RDD `cleaned_data_to_columns` and the schema `airline_data_schema` which are declared before, create a new DataFrame **`df`**.\n",
    "\n",
    "Note that, we should only select the necessary features defined above: [ year, month, day_of_month, day_of_week, scheduled_departure_time, scheduled_arrival_time, arrival_delay, distance, src_airport, dest_airport]. \n",
    "\n",
    "Finally, the data should be cached."
   ]
  },
  {
   "cell_type": "code",
   "execution_count": 51,
   "metadata": {
    "collapsed": false
   },
   "outputs": [
    {
     "name": "stdout",
     "output_type": "stream",
     "text": [
      "+----+-----+------------+-----------+------------------------+----------------------+-------------+--------+-----------+------------+-------+\n",
      "|year|month|day_of_month|day_of_week|scheduled_departure_time|scheduled_arrival_time|arrival_delay|distance|src_airport|dest_airport|carrier|\n",
      "+----+-----+------------+-----------+------------------------+----------------------+-------------+--------+-----------+------------+-------+\n",
      "|1994|    1|           7|          5|                     900|                  1003|           -9|     290|        CLT|         ORF|     US|\n",
      "|1994|    1|           8|          6|                     900|                  1003|          -11|     290|        CLT|         ORF|     US|\n",
      "+----+-----+------------+-----------+------------------------+----------------------+-------------+--------+-----------+------------+-------+\n",
      "only showing top 2 rows\n",
      "\n"
     ]
    }
   ],
   "source": [
    "\n",
    "# create dataframe df\n",
    "df = sqlContext.createDataFrame(cleaned_data_to_columns,airline_data_schema)\\\n",
    "        .select(['year', 'month', 'day_of_month', 'day_of_week',\\\n",
    "            'scheduled_departure_time','scheduled_arrival_time',\\\n",
    "            'arrival_delay', 'distance', \\\n",
    "            'src_airport', 'dest_airport','carrier'])\\\n",
    "      .cache()\n",
    "\n",
    "df.show(2)"
   ]
  },
  {
   "cell_type": "markdown",
   "metadata": {
    "collapsed": true
   },
   "source": [
    "## 3.4 Descriptive statistics\n",
    "Next, we will go over a series of simple queries on our data, to explore it and compute statistics. These queries directly map to the questions you need to answer. \n",
    "\n",
    "**NOTE:** finding the right question to ask is difficult! Don't be afraid to complement the questions below, with your own questions that, in your opinion, are valuable ways to inspect data. This can give you extra points!\n",
    "\n",
    "- Basic queries:\n",
    "  - How many unique origin airports ?\n",
    "  - How many unique destination airports ?\n",
    "  - How many carriers ?\n",
    "  - How many flights that have a scheduled departure time later than 18h00 ?\n",
    "  \n",
    "- Statistic on flight volume: this kind of statistics are helpful to reason about delays. Indeed, it is plausible to assume that \"*the more flights in an airport, the higher the probability of delay*\".\n",
    "  - How many flights in each month of the year ?\n",
    "  - Is there any relationship between the number of flights and the days of week?\n",
    "  - How many flights in different days of months and in different hours of days ?\n",
    "  - Which are the top 20 busiest airports (this depends on inbound and outbound traffic) ?\n",
    "  - Which are the top 20 busiest carriers ?\n",
    "  \n",
    "- Statistic on the fraction of delayed flights\n",
    "  - What is the percentage of delayed flights (over total flights) for different hours of the day ?\n",
    "  - Which hours of the day are characterized by the longest flight delay ?\n",
    "  - What are the fluctuation of the percentage of delayed flights over different time granularities ?\n",
    "  - What is the percentage of delayed flights which depart from one of the top 20 busiest airports ?\n",
    "  - What is the percentage of delayed flights which belong to one of the top 20 busiest carriers ?"
   ]
  },
  {
   "cell_type": "markdown",
   "metadata": {},
   "source": [
    "![](https://farm2.staticflickr.com/1604/24934700445_833f0a5649_t.jpg)"
   ]
  },
  {
   "cell_type": "markdown",
   "metadata": {},
   "source": [
    "<div class='anchor' ></div>\n",
    "### Question 3: Basic queries\n",
    "\n",
    "#### Question 3.1 \n",
    "How many origin airports ? How many destination airports ?"
   ]
  },
  {
   "cell_type": "code",
   "execution_count": 50,
   "metadata": {
    "collapsed": false
   },
   "outputs": [
    {
     "name": "stdout",
     "output_type": "stream",
     "text": [
      "number of origin airports : 224\n",
      "number of destination airports : 224\n"
     ]
    }
   ],
   "source": [
    "\n",
    "num_src_airport = df.select('src_airport').distinct().count()\n",
    "num_dest_airport = df.select('dest_airport').distinct().count()\n",
    "print(\"number of origin airports :\", num_src_airport)\n",
    "print(\"number of destination airports :\", num_src_airport)"
   ]
  },
  {
   "cell_type": "markdown",
   "metadata": {},
   "source": [
    "<div class='anchor' ></div>\n",
    "#### Question 3.2\n",
    "How many carriers ?"
   ]
  },
  {
   "cell_type": "code",
   "execution_count": 52,
   "metadata": {
    "collapsed": false
   },
   "outputs": [
    {
     "name": "stdout",
     "output_type": "stream",
     "text": [
      "the number distinct carriers: 10\n"
     ]
    }
   ],
   "source": [
    "\n",
    "num_carrier = df.select('carrier').distinct().count()\n",
    "print(\"the number distinct carriers:\", num_carrier)\n"
   ]
  },
  {
   "cell_type": "markdown",
   "metadata": {},
   "source": [
    "<div class='anchor' ></div>\n",
    "#### Question 3.3\n",
    "How many night flights (that is, flights departing later than 6pm) ?"
   ]
  },
  {
   "cell_type": "code",
   "execution_count": 74,
   "metadata": {
    "collapsed": false
   },
   "outputs": [
    {
     "name": "stdout",
     "output_type": "stream",
     "text": [
      "the number of night flights: 1078203\n"
     ]
    }
   ],
   "source": [
    "night_flights=df.filter(df['scheduled_departure_time']>1800).count()\n",
    "\n",
    "print(\"the number of night flights:\", night_flights)"
   ]
  },
  {
   "cell_type": "markdown",
   "metadata": {},
   "source": [
    "![](https://farm2.staticflickr.com/1604/24934700445_833f0a5649_t.jpg)"
   ]
  },
  {
   "cell_type": "markdown",
   "metadata": {},
   "source": [
    "<div class='anchor' ></div>\n",
    "### Question 4: Flight volume statistics\n",
    "\n",
    "#### Question 4.1: \n",
    "How many flights in each month of the year? Plot the changes over months by a line chart and comment the figure.\n",
    "From the result, we can learn the dynamics of flight volume over months. For example, if we only consider flights in 1994 (to start, it's always better to focus on smaller amount of data), we can discuss about which months are most likely to have flights experiencing delays."
   ]
  },
  {
   "cell_type": "code",
   "execution_count": 96,
   "metadata": {
    "collapsed": false
   },
   "outputs": [
    {
     "data": {
      "image/png": "[encoded data removed]",
      "text/plain": [
       "<matplotlib.figure.Figure at 0x7f2f102f2e80>"
      ]
     },
     "metadata": {},
     "output_type": "display_data"
    }
   ],
   "source": [
    "\n",
    "statistic_month = df.select('month').groupBy('month').count().collect()\n",
    "\n",
    "#print(statistic_month)\n",
    "pdf = pd.DataFrame(data=statistic_month)\n",
    "plt.xlabel(\"Months\")\n",
    "plt.ylabel(\"Number of flights\")\n",
    "plt.title('Figure 1: The change of number flights over months')\n",
    "plt.grid(True,which=\"both\",ls=\"-\")\n",
    "plt.plot(pdf[0],pdf[1])\n",
    "plt.show()\n",
    "\n"
   ]
  },
  {
   "cell_type": "markdown",
   "metadata": {},
   "source": [
    "<div class=\"comment\">\n",
    "PUT YOUR COMMENT HERE !\n",
    "</div>"
   ]
  },
  {
   "cell_type": "markdown",
   "metadata": {},
   "source": [
    "<div class='anchor' ></div>\n",
    "#### Question 4.2: \n",
    "Is there any relationship between the number of flights and the days of the week? Plot a bar chart and interpret the figure.\n",
    "By answering this question we could learn about the importance of the weekend/weekday feature for our predictive task."
   ]
  },
  {
   "cell_type": "code",
   "execution_count": 112,
   "metadata": {
    "collapsed": false
   },
   "outputs": [
    {
     "data": {
      "image/png": "[encoded data removed]",
      "text/plain": [
       "<matplotlib.figure.Figure at 0x7f2ee8f35048>"
      ]
     },
     "metadata": {},
     "output_type": "display_data"
    }
   ],
   "source": [
    "statistic_day_of_week = df.select('day_of_week').groupBy('day_of_week').count().collect()\n",
    "#statistic_day_of_week.show()\n",
    "pdf = pd.DataFrame(data=statistic_day_of_week)\n",
    "\n",
    "plt.xlabel(\"Days of week\")\n",
    "plt.ylabel(\"Number of flights\")\n",
    "plt.title('Figure 2: The change of number flights over days of week')\n",
    "plt.grid(True,which=\"both\",ls=\"-\")\n",
    "map_int_into_day = { 1:\"Mon\", 2:\"Tue\", 3:\"Wed\", 4:\"Thu\", 5:\"Fri\", 6:\"Sat\", 7:\"Sun\" }\n",
    "day_of_week_label = pdf[0].map(lambda i: map_int_into_day[i])\n",
    "\n",
    "# plot bar chart\n",
    "plt.bar(pdf[0],pdf[1], align = 'center',alpha=.4)\n",
    "\n",
    "plt.xticks(pdf[0], day_of_week_label)\n",
    "plt.show()"
   ]
  },
  {
   "cell_type": "markdown",
   "metadata": {},
   "source": [
    "<div class=\"comment\">\n",
    "The flights on weekends are a bit less than flights on weekdays.\n",
    "</div>"
   ]
  },
  {
   "cell_type": "markdown",
   "metadata": {},
   "source": [
    "<div class='anchor' ></div>\n",
    "#### Question 4.3\n",
    "How many flights in different days of months and in different hours of days ? Plot  bar charts, and interpret your figures."
   ]
  },
  {
   "cell_type": "code",
   "execution_count": 118,
   "metadata": {
    "collapsed": false
   },
   "outputs": [
    {
     "data": {
      "image/png": "[encoded data removed]",
      "text/plain": [
       "<matplotlib.figure.Figure at 0x7f2ee9460cc0>"
      ]
     },
     "metadata": {},
     "output_type": "display_data"
    }
   ],
   "source": [
    "\n",
    "statistic_day_of_month = df.select('day_of_month').groupBy('day_of_month').count().collect()\n",
    "#statistic_day_of_month.show()\n",
    "pdf = pd.DataFrame(data=statistic_day_of_month)\n",
    "\n",
    "# plot bar chart\n",
    "plt.bar(pdf[0],pdf[1], align = 'center',alpha=.4)\n",
    "plt.title(\"Figure : The change of number flights over days of month\")\n",
    "plt.xlabel(\"Days of month\")\n",
    "plt.ylabel(\"Number of flights\")\n",
    "plt.grid(True,which=\"both\",ls=\"-\")\n",
    "plt.show()\n"
   ]
  },
  {
   "cell_type": "markdown",
   "metadata": {},
   "source": [
    "<div class=\"comment\">\n",
    "The spread is quite even here. Number of flights doesn't depend on day of month that much. The flights on 29,30,31 are a bit lower but that is expected as some months don't have these many number of days.\n",
    "</div>"
   ]
  },
  {
   "cell_type": "code",
   "execution_count": 126,
   "metadata": {
    "collapsed": false
   },
   "outputs": [
    {
     "data": {
      "image/png": "[encoded data removed]",
      "text/plain": [
       "<matplotlib.figure.Figure at 0x7f2f09887940>"
      ]
     },
     "metadata": {},
     "output_type": "display_data"
    }
   ],
   "source": [
    "\n",
    "statistic_hour_of_day = df.select('scheduled_departure_time').groupBy('scheduled_departure_time').count().collect()\n",
    "#statistic_hour_of_day.show()\n",
    "pdf = pd.DataFrame(data=statistic_hour_of_day)\n",
    "\n",
    "#plot char chart\n",
    "plt.bar(pdf[0],pdf[1], align = 'center',alpha=.4)\n",
    "plt.xlabel(\"Hour of Day\")\n",
    "plt.ylabel(\"Number of flights\")\n",
    "plt.grid(True,which=\"both\",ls=\"-\")\n",
    "plt.title('Figure 3: The change of number flights over hours of day')\n",
    "plt.show()\n"
   ]
  },
  {
   "cell_type": "markdown",
   "metadata": {},
   "source": [
    "<div class=\"comment\">\n",
    "The number of flights are very less between 2300h and 600h\n",
    "</div>"
   ]
  },
  {
   "cell_type": "markdown",
   "metadata": {},
   "source": [
    "<div class='anchor' ></div>\n",
    "#### Question 4.4\n",
    "Which are the top 20 busiest airports: compute this in terms of aggregate inbound and outbound number of flights ?"
   ]
  },
  {
   "cell_type": "code",
   "execution_count": null,
   "metadata": {
    "collapsed": true
   },
   "outputs": [],
   "source": [
    "\n",
    "# consider outbound flights\n",
    "stat_src = (df\n",
    "            .groupBy(df.src_airport)\n",
    "            .agg(func.count('*').alias('count1'))\n",
    "            )\n",
    "    \n",
    "# consider inbound flights\n",
    "stat_dest = (df\n",
    "              .groupBy(df.dest_airport)\n",
    "            .agg(func.count('*').alias('count2'))\n",
    "            )\n",
    "\n",
    "\n",
    "# full join the statistic of inbound flights and outbound flights\n",
    "stat_airports = stat_src.join(..., ..., how=...)\n",
    "\n",
    "# TOP 20 BUSIEST AIRPORTS\n",
    "stat_airport_traffic = (stat_airports\n",
    "                            # define the new column `total` \n",
    "                            # which has values are equal to the sum of `count1` and `count2`\n",
    "                            .withColumn('total', stat_airports['count1'] + stat_airports['count2'])\n",
    "                            # select top airpoint in termns of number of flights\n",
    "                            .select([...]).orderBy(desc(...))\n",
    "                        )\n",
    "stat_airport_traffic.show(20)\n"
   ]
  },
  {
   "cell_type": "markdown",
   "metadata": {},
   "source": [
    "<div class='anchor' ></div>\n",
    "#### Question 4.5\n",
    "Which are the top 20 busiest carriers: compute this in terms of number of flights? \n"
   ]
  },
  {
   "cell_type": "markdown",
   "metadata": {},
   "source": [
    "```python\n",
    "stat_carrier = (df\n",
    "                .groupBy(...)\n",
    "                .agg(....alias('count'))\n",
    "                .orderBy(desc('count'))\n",
    "                )\n",
    "\n",
    "stat_carrier.show(20)\n",
    "```"
   ]
  },
  {
   "cell_type": "markdown",
   "metadata": {},
   "source": [
    "![](https://farm2.staticflickr.com/1604/24934700445_833f0a5649_t.jpg)"
   ]
  },
  {
   "cell_type": "markdown",
   "metadata": {},
   "source": [
    "<div class='anchor' ></div>\n",
    "### Question 5 \n",
    "Statistics on the percentage of delayed flights\n",
    "\n",
    "#### Question 5.1\n",
    "What is the percentage of delayed flights for different hours of the day? Plot a bar chart and interpret the figure.\n",
    "Remember: a flight is considered as delayed if it's actual arrival time is more than 15 minutes late than the scheduled arrival time."
   ]
  },
  {
   "cell_type": "markdown",
   "metadata": {},
   "source": [
    "```python\n",
    "# create new column that marks whether the flights are delay\n",
    "df_with_delay = df.withColumn('is_delay', when(df[...] >= 15, 1).otherwise(0))\n",
    "\n",
    "# create a new column that indicates the scheduled departure time in hour \n",
    "# (ignore the part of minute)\n",
    "delay_per_hour = df_with_delay.withColumn('hour', round(df.scheduled_departure_time/100, 0))\n",
    "\n",
    "# group by year and hour\n",
    "statistic_delay_hour = delay_per_hour.groupBy(...)\n",
    "\n",
    "# calculate the delay ratio and create a new column\n",
    "delay_ratio_per_hour = statistic_delay_hour.agg(\n",
    "    (func.sum('is_delay')/func.count('*')).alias('delay_ratio')\n",
    ")\n",
    "\n",
    "    \n",
    "# order the result by hour\n",
    "delay_ratio_per_hour = (\n",
    "            delay_ratio_per_hour\n",
    "                .orderBy(...)\n",
    "                .select([..., ...])\n",
    "    )\n",
    "\n",
    "pdf_delay_ratio_per_hour = pd.DataFrame(...)\n",
    "```"
   ]
  },
  {
   "cell_type": "markdown",
   "metadata": {},
   "source": [
    "```python\n",
    "# plot a bar chart\n",
    "\n",
    "...\n",
    "...\n",
    "...\n",
    "plt.title('Figure 4: The ratio of delay over hours in day')\n",
    "plt.show()\n",
    "```"
   ]
  },
  {
   "cell_type": "markdown",
   "metadata": {},
   "source": [
    "<div class=\"comment\">\n",
    "PUT YOUR COMMENT HERE !\n",
    "</div>"
   ]
  },
  {
   "cell_type": "markdown",
   "metadata": {},
   "source": [
    "<div class='anchor' ></div>\n",
    "#### Question 5.2\n",
    "\n",
    "You will realize that saying \"at 4 A.M. there is a very low chance of a flight being delayed\" is not giving you a full picture of the situation. Indeed, it might be true that there is very little probability for a early flight to be delayed, but if it does, the delay might be huge, like 6 hours! \n",
    "\n",
    "Then, the question is: which hours of the day are characterized by the largest delay? Plot a Bar chart and explain it."
   ]
  },
  {
   "cell_type": "markdown",
   "metadata": {},
   "source": [
    "```python\n",
    "mean_delay_per_hour = statistic_delay_hour.agg(\n",
    "    (func.mean(...)).alias('mean_delay')\n",
    ")\n",
    "    \n",
    "mean_delay_per_hour = (\n",
    "    mean_delay_per_hour\n",
    "        .orderBy(...)\n",
    "        .select([...,...])\n",
    "    )\n",
    "    \n",
    "pdf_mean_delay_per_hour = pd.DataFrame(...)\n",
    "\n",
    "...\n",
    "...\n",
    "...\n",
    "plt.title('Figure 5: The delay over hours in day')\n",
    "plt.show()\n",
    "\n",
    "\n",
    "```"
   ]
  },
  {
   "cell_type": "markdown",
   "metadata": {},
   "source": [
    "<div class=\"comment\">\n",
    "PUT YOUR COMMENT HERE !\n",
    "</div>"
   ]
  },
  {
   "cell_type": "markdown",
   "metadata": {},
   "source": [
    "With data of year 1994, the flight from 3AM to 4AM often depart earlier than in their schedule. The flights in the morning have less delay then in the afternoon and evening.\n",
    "\n",
    "So, an attentive student should notice here that we have somehow a problem with the definition of delay! Next, we will improve how to represent and visualize data to overcome this problem."
   ]
  },
  {
   "cell_type": "code",
   "execution_count": 71,
   "metadata": {
    "collapsed": false
   },
   "outputs": [],
   "source": [
    "#pdf2 = pd.DataFrame(data=mean_delay_per_hour.collect())\n",
    "plt.xlabel(\"Hours\")\n",
    "plt.ylabel(\"Ratio of delay\")\n",
    "plt.title('Figure 6: The radio of delay over hours in day')\n",
    "plt.grid(True,which=\"both\",ls=\"-\")\n",
    "bars = plt.bar(pdf_delay_ratio_per_hour[0], pdf_delay_ratio_per_hour[1], align='center', edgecolor = \"black\")\n",
    "for i in range(0, len(bars)):\n",
    "    color = 'red'\n",
    "    if pdf_mean_delay_per_hour[1][i] < 0:\n",
    "        color = 'lightgreen'\n",
    "    elif pdf_mean_delay_per_hour[1][i] < 2:\n",
    "        color = 'green'\n",
    "    elif pdf_mean_delay_per_hour[1][i] < 4:\n",
    "        color = 'yellow'\n",
    "    elif pdf_mean_delay_per_hour[1][i] < 8:\n",
    "        color = 'orange'\n",
    "\n",
    "    bars[i].set_color(color)\n",
    "        \n",
    "patch1 = mpatches.Patch(color='lightgreen', label='Depart earlier')\n",
    "patch2 = mpatches.Patch(color='green', label='delay < 2 minutes')\n",
    "patch3 = mpatches.Patch(color='yellow', label='delay < 4 minutes')\n",
    "patch4 = mpatches.Patch(color='orange', label='delay < 8 minutes')\n",
    "patch5 = mpatches.Patch(color='red', label='delay >= 8 minutes')\n",
    "\n",
    "plt.legend(handles=[patch1, patch2, patch3, patch4, patch5], bbox_to_anchor=(1.05, 1), loc=2, borderaxespad=0.)\n",
    "\n",
    "plt.show()"
   ]
  },
  {
   "cell_type": "markdown",
   "metadata": {},
   "source": [
    "In the new figure (Figure 6), we have more information in a single plot. The flights in 3AM to 4AM have very low probability of being delayed, and actually depart ealier than their schedule. In contrast, the flights in the 4PM to 8PM range have higher chances of being delayed: in more than 50% of the cases, the delay is 8 minutes or more.\n",
    "\n",
    "This example shows us that the way representing results are also important.\n"
   ]
  },
  {
   "cell_type": "markdown",
   "metadata": {},
   "source": [
    "<div class='anchor' ></div>\n",
    "#### Question 5.3\n",
    "Plot a bar chart to show the percentage of delayed flights over days in a month"
   ]
  },
  {
   "cell_type": "markdown",
   "metadata": {},
   "source": [
    "```python\n",
    "####### The changes of delay ratio over days of month ########\n",
    "# calculate the delay ratio in each day of month\n",
    "statistic_day_of_month = (\n",
    "    df_with_delay\n",
    "        .groupBy(...)\n",
    "        .agg(...)\n",
    "        # order by day_of_month\n",
    "        .orderBy(...)\n",
    "    )\n",
    "    \n",
    "# collect data and plot\n",
    "pdf_day_of_month = pd. ...\n",
    "...\n",
    "...\n",
    "...\n",
    "plt.title('Figure 7: The radio of delay over days of month')\n",
    "plt.show()\n",
    "```"
   ]
  },
  {
   "cell_type": "markdown",
   "metadata": {},
   "source": [
    "<div class=\"comment\">\n",
    "PUT YOUR COMMENT HERE !\n",
    "</div>"
   ]
  },
  {
   "cell_type": "markdown",
   "metadata": {},
   "source": [
    "<div class='anchor' ></div>\n",
    "#### Question 5.4\n",
    "Plot a bar chart to show the percentage of delayed flights over days in a week"
   ]
  },
  {
   "cell_type": "markdown",
   "metadata": {},
   "source": [
    "```python\n",
    "####### The changes of delay ratio over days of week ########\n",
    "# calculate the delay ratio in each day of week\n",
    "statistic_day_of_week = (\n",
    "    df_with_delay\n",
    "        ...\n",
    "        ...\n",
    "        ...\n",
    "    )\n",
    "    \n",
    "# collect data and plot\n",
    "pdf_day_of_week = pd. ...\n",
    "map_int_into_day = { 1:\"Mon\", 2:\"Tue\", 3:\"Wed\", 4:\"Thu\", 5:\"Fri\", 6:\"Sat\", 7:\"Sun\" }\n",
    "day_of_week_label = pdf_day_of_week[0].map(lambda i: map_int_into_day[i])\n",
    "\n",
    "...\n",
    "...\n",
    "...\n",
    "\n",
    "plt.title('Figure 8: The radio of delay over days of week')\n",
    "plt.xticks(pdf_day_of_week[0], day_of_week_label)\n",
    "plt.show()\n",
    "```"
   ]
  },
  {
   "cell_type": "markdown",
   "metadata": {},
   "source": [
    "<div class=\"comment\">\n",
    "PUT YOUR COMMENT HERE !\n",
    "</div>"
   ]
  },
  {
   "cell_type": "markdown",
   "metadata": {},
   "source": [
    "<div class='anchor' ></div>\n",
    "#### Question 5.5\n",
    "Plot a bar chart to show the percentage of delayed flights over months in a year"
   ]
  },
  {
   "cell_type": "markdown",
   "metadata": {},
   "source": [
    "```python\n",
    "####### The changes of delay ratio over months ########\n",
    "# calculate the delay ratio in month\n",
    "statistic_month = (\n",
    "    ...\n",
    "    ...\n",
    "    ...\n",
    "    )\n",
    "    \n",
    "# collect data and plot\n",
    "pdf_month = pd. ...\n",
    "\n",
    "...\n",
    "...\n",
    "...\n",
    "\n",
    "plt.title('Figure 9: The radio of delay over months')\n",
    "plt.show()\n",
    "```"
   ]
  },
  {
   "cell_type": "markdown",
   "metadata": {},
   "source": [
    "<div class=\"comment\">\n",
    "PUT YOUR COMMENT HERE !\n",
    "</div>"
   ]
  },
  {
   "cell_type": "markdown",
   "metadata": {},
   "source": [
    "We are ready now to draw some observations from our data, even if we have only looked at data coming from a year worth of flights:\n",
    "\n",
    "- The probability for a flight to be delayed is low at the beginning or at the very end of a given months\n",
    "- Flights on two first weekdays and on the weekend are less likely to be delayed\n",
    "- May and September are very good months for travelling, as the probability of delay is low (remember we're working on US data. Do you think this is also true in France?)\n",
    "\n",
    "Putting things together, we can have a global picture of the whole year!"
   ]
  },
  {
   "cell_type": "code",
   "execution_count": 75,
   "metadata": {
    "collapsed": false
   },
   "outputs": [],
   "source": [
    "df_with_delay = df.withColumn('is_delay', when(df[\"arrival_delay\"] >= 15, 1).otherwise(0))\n",
    "statistic_day = df_with_delay.groupBy(['year','month', 'day_of_month', 'day_of_week'])\\\n",
    "    .agg((func.sum('is_delay')/func.count('*')).alias('delay_ratio'))\n",
    "\n",
    "# assume that we do statistic on year 1994\n",
    "statistic_day = statistic_day\\\n",
    "    .orderBy('year', 'month', 'day_of_month', 'day_of_week')\n",
    "pdf = pd.DataFrame(data=statistic_day.collect())"
   ]
  },
  {
   "cell_type": "code",
   "execution_count": 76,
   "metadata": {
    "collapsed": false
   },
   "outputs": [],
   "source": [
    "fig = plt.figure(figsize=(20,10))                                                             \n",
    "ax = fig.add_subplot(1,1,1)     \n",
    "plt.xlabel(\"Weeks/Months in year\")\n",
    "plt.ylabel(\"Day of weeks (1:Monday -> 7 :Sunday)\")\n",
    "plt.title('Figure 10: The change of number flights over days in year')\n",
    "  \n",
    "rec_size = 0.3\n",
    "from matplotlib.patches import Rectangle\n",
    "import datetime\n",
    "num_days = len(pdf[0])\n",
    "ax.patch.set_facecolor('gray')\n",
    "ax.set_aspect('equal', 'box')\n",
    "ax.xaxis.set_major_locator(plt.NullLocator())\n",
    "ax.yaxis.set_major_locator(plt.NullLocator())\n",
    "\n",
    "for i in range(0, num_days):\n",
    "    # extract information from the result\n",
    "    year = pdf[0][i]\n",
    "    month = pdf[1][i]\n",
    "    day_of_month = pdf[2][i]\n",
    "    day_of_week = pdf[3][i]\n",
    "    day_of_year= datetime.date(year=year, month=month, day=day_of_month).timetuple()\n",
    "    week_of_year = datetime.date(year=year, month=month, day=day_of_month).isocalendar()[1]\n",
    "    \n",
    "    # dealing with the week of the previous year\n",
    "    if week_of_year == 52 and month == 1:\n",
    "        week_of_year = 0\n",
    "        \n",
    "    # the coordinate of a day in graph\n",
    "    X = week_of_year*rec_size\n",
    "    Y = day_of_week*rec_size\n",
    "    \n",
    "    # use different colors to show the delay ratio\n",
    "    color = 'white'\n",
    "    if pdf[4][i] <= 0.084:\n",
    "        color = 'lightyellow'\n",
    "    elif pdf[4][i] <= 0.117:\n",
    "        color = 'lightgreen'\n",
    "    elif pdf[4][i] <= 0.152:\n",
    "        color = 'gold'\n",
    "    elif pdf[4][i] <= 0.201:\n",
    "        color = 'orange'\n",
    "    else:\n",
    "        color = 'red'\n",
    "    rect = plt.Rectangle((X - rec_size/2.0, Y - rec_size/2.0), rec_size, rec_size,\n",
    "                      alpha=1, facecolor=color, edgecolor='whitesmoke')\n",
    "\n",
    "    ax.add_patch(rect)\n",
    "    \n",
    "    # drawing boders to separate months\n",
    "    if day_of_month <= 7:\n",
    "        rect2 = plt.Rectangle((X -rec_size/2.0, Y - rec_size/2.0), 0.01, rec_size,\n",
    "                      alpha=1, facecolor='black')\n",
    "        ax.add_patch(rect2)\n",
    "    if day_of_month == 1:\n",
    "        rect2 = plt.Rectangle((X - rec_size/2.0, Y - rec_size/2.0), rec_size, 0.01,\n",
    "                      alpha=1, facecolor='black')\n",
    "        ax.add_patch(rect2)\n",
    "ax.autoscale_view()\n",
    "\n",
    "patch1 = mpatches.Patch(color='lightyellow', label='delay ratio < 8.4%')\n",
    "patch2 = mpatches.Patch(color='lightgreen', label='delay ratio < 11.7%')\n",
    "patch3 = mpatches.Patch(color='gold', label='delay ratio < 15.2%')\n",
    "patch4 = mpatches.Patch(color='orange', label='delay ratio < 20.1%')\n",
    "patch5 = mpatches.Patch(color='red', label='delay ratio >= 20.1%')\n",
    "\n",
    "plt.legend(handles=[patch1, patch2, patch3, patch4, patch5], bbox_to_anchor=(1.05, 1), loc=2, borderaxespad=0.)\n",
    "\n",
    "plt.show()"
   ]
  },
  {
   "cell_type": "markdown",
   "metadata": {},
   "source": [
    "<div class='anchor' ></div>\n",
    "#### Question 5.6\n",
    "Explain figure 10."
   ]
  },
  {
   "cell_type": "markdown",
   "metadata": {},
   "source": [
    "<div class=\"answer\">\n",
    "PUT YOUR COMMENT HERE !\n",
    "</div>"
   ]
  },
  {
   "cell_type": "markdown",
   "metadata": {
    "collapsed": true
   },
   "source": [
    "<div class='anchor' ></div>\n",
    "#### Question 5.7\n",
    "\n",
    "What is the delay probability for the top 20 busiest airports?\n",
    "By drawing the flight volume of each airport and the associated delay probability in a single plot, we can observe the relaltionship between aiports, number of flights and the delay.\n",
    "\n",
    "HINT: Function `<df_colum>.isin(<list>)` helps checking whether a value in column belongs to a list."
   ]
  },
  {
   "cell_type": "markdown",
   "metadata": {},
   "source": [
    "```python\n",
    "####### The delay ratio of the top 20 busiest airports ########\n",
    "K = 20\n",
    "\n",
    "# extract top_20_airports from stat_airport_traffic\n",
    "top_20_airports = [item[0] for item in stat_airport_traffic.take(K)]\n",
    "\n",
    "# select the statistic of source airports\n",
    "statistic_ratio_delay_airport = (\n",
    "    df_with_delay\n",
    "        # select only flights that depart from one of top 20 ariports\n",
    "        .filter(df_with_delay....)\n",
    "        # group by source airport\n",
    "        .groupBy(...)\n",
    "        #  calculate the delay ratio\n",
    "        ...\n",
    "        # sort by name of airport\n",
    "        .orderBy(['src_airport'])\n",
    "    )\n",
    "#statistic_ratio_delay_airport.show(20)\n",
    "```"
   ]
  },
  {
   "cell_type": "code",
   "execution_count": 78,
   "metadata": {
    "collapsed": false
   },
   "outputs": [],
   "source": [
    "# collect data and plot\n",
    "pdf_ratio_delay_airport = pd.DataFrame(data=statistic_ratio_delay_airport.collect())\n",
    "pdf_top_20_airport_volume = pd.DataFrame(data=stat_airport_traffic.take(K), columns=['src_airport', 'total'])\n",
    "pdf_top_20_airport_volume = pdf_top_20_airport_volume.sort_values(by='src_airport')\n",
    "#print(pdf_top_20_airport_volume)\n",
    "index = np.arange(len(top_20_airports))\n",
    "bar_width = 0.35\n",
    "opacity = 0.4\n",
    "\n",
    "\n",
    "fig = plt.figure(figsize=(20,10))                                                             \n",
    "ax = fig.add_subplot(1,1,1)\n",
    "\n",
    "ax2 = ax.twinx()\n",
    "plt.axis('normal')\n",
    "ax.set_xlabel(\"Airport\")\n",
    "ax.set_ylabel(\"Flight volume\")\n",
    "ax2.set_ylabel(\"Ratio of delay\")\n",
    "plt.xticks(index + bar_width, top_20_airports)\n",
    "plt.title('Figure 11: The ratio of delay over months')\n",
    "plt.grid(True,which=\"both\",ls=\"-\")\n",
    "bar = ax.bar(index, pdf_top_20_airport_volume['total'], \n",
    "        bar_width, color='b', \n",
    "        label='flight volume')\n",
    "bar2 = ax2.bar(index + 1.5*bar_width, pdf_ratio_delay_airport[1], bar_width, \n",
    "       align='center', color='r', \n",
    "       label='Delay ratio')\n",
    "\n",
    "lines, labels = ax.get_legend_handles_labels()\n",
    "lines2, labels2 = ax2.get_legend_handles_labels()\n",
    "ax2.legend(lines + lines2, labels + labels2, loc=0)\n",
    "\n",
    "plt.tight_layout()\n",
    "plt.show()"
   ]
  },
  {
   "cell_type": "markdown",
   "metadata": {},
   "source": [
    "<div class=\"comment\">\n",
    "PUT YOUR COMMENT HERE !\n",
    "</div>"
   ]
  },
  {
   "cell_type": "markdown",
   "metadata": {},
   "source": [
    "<div class='anchor' ></div>\n",
    "#### Question 5.8\n",
    "What is the percentage of delayed flights which belong to one of the top 20 busiest carriers? Comment the figure!"
   ]
  },
  {
   "cell_type": "markdown",
   "metadata": {},
   "source": [
    "```python\n",
    "K = 20\n",
    "\n",
    "# extract top_20_carriers from stat_carrier\n",
    "top_20_carriers = [...]\n",
    "\n",
    "statistic_ratio_delay_carrier = (\n",
    "    df_with_delay\n",
    "        # select only flights that belong from one of top 20 carriers\n",
    "        ...\n",
    "        # group by carriers\n",
    "        ...\n",
    "        #  calculate the delay ratio\n",
    "        ...\n",
    "        # sort by name of airport\n",
    "        ...\n",
    "    )\n",
    "#statistic_ratio_delay_carrier.show(20)\n",
    "\n",
    "```"
   ]
  },
  {
   "cell_type": "code",
   "execution_count": 80,
   "metadata": {
    "collapsed": false
   },
   "outputs": [],
   "source": [
    "# collect data and plot\n",
    "pdf_ratio_delay_carrier = pd.DataFrame(data=statistic_ratio_delay_carrier.collect())\n",
    "pdf_top_20_carrier_volume = pd.DataFrame(data=stat_carrier.take(K), columns=['carrier', 'count'])\n",
    "pdf_top_20_carrier_volume = pdf_top_20_carrier_volume.sort_values(by='carrier')\n",
    "#print(pdf_top_20_carrier_volume)\n",
    "top_20_carriers.sort()\n",
    "index = np.arange(len(top_20_carriers))\n",
    "bar_width = 0.35\n",
    "opacity = 0.4\n",
    "\n",
    "\n",
    "fig = plt.figure(figsize=(20,10))                                                             \n",
    "ax = fig.add_subplot(1,1,1)\n",
    "\n",
    "ax2 = ax.twinx()\n",
    "plt.axis('normal')\n",
    "ax.set_xlabel(\"Carrier\")\n",
    "ax.set_ylabel(\"Flight volume\")\n",
    "ax2.set_ylabel(\"Ratio of delay\")\n",
    "plt.xticks(index + bar_width, top_20_carriers)\n",
    "\n",
    "plt.title('Figure 11: The radio of delay over months')\n",
    "plt.grid(True,which=\"both\",ls=\"-\")\n",
    "bar = ax.bar(index, pdf_top_20_carrier_volume['count'], \n",
    "        bar_width, color='b', \n",
    "        label='flight volume')\n",
    "bar2 = ax2.bar(index + 1.5*bar_width, pdf_ratio_delay_carrier[1], bar_width, \n",
    "       align='center', color='r', \n",
    "       label='Delay ratio')\n",
    "\n",
    "lines, labels = ax.get_legend_handles_labels()\n",
    "lines2, labels2 = ax2.get_legend_handles_labels()\n",
    "ax2.legend(lines + lines2, labels + labels2, loc=0)\n",
    "\n",
    "plt.tight_layout()\n",
    "plt.show()"
   ]
  },
  {
   "cell_type": "markdown",
   "metadata": {},
   "source": [
    "<div class=\"comment\">\n",
    "PUT YOUR COMMENT HERE !\n",
    "</div>"
   ]
  },
  {
   "cell_type": "markdown",
   "metadata": {},
   "source": [
    "# 4. Building a model of our data\n",
    "Now that we have a good grasp on our data and its features, we will focus on how build a statistic model. Note that the features we can decide to use, to train our model, can be put in two groups:\n",
    "\n",
    "- **Explicit features**: these are features that are present in the original data, or that can be built using additional data sources such as `weather` (for example querying a public API)\n",
    "- **Implicit features**: these are the features that are inferred from other features such as `is_weekend`, `is_holiday`, `season`, `in_winter`,...\n",
    "\n",
    "In this notebook, we will focus on the following predictors: `year`, `month`, `day_of_month`, `day_of_week`, `scheduled_departure_time`, `scheduled_arrival_time`, `carrier`, `is_weekend`, `distance`, `src_airport`, `dest_airport`. Among them, `is_weekend` is an implicit feature. The rest are explicit features.\n",
    "\n",
    "The target feature is `arrival_delay`. \n",
    "\n",
    "Currently, MLLIB only supports building models from RDDs. It is important to read well the documentation and the MLLib API, to make sure to use the algorithms in an appropriate manner:\n",
    "\n",
    "- MLLIB supports both categorical and numerical features. However, for each categorical feature, we have to indicate how many distinct values they can take\n",
    "- Each training record must be a ```LabelledPoint```. This datastructure has 2 components: ```label``` and ```predictor vector```. ```label``` is the value of target feature in the current record. ```predictor vector``` is a vector of values of type ```Double```. As such, we need to map each value of each categorical feature to a number. In this project, we choose a naïve approach: map each value to an unique index. \n",
    "- MLLIB uses a binning technique to find the split point (the predicate in each tree node). In particular, it divides the domain of numerical features into ```maxBins``` bins (32 by default). With categorical features, each distinct value fits in its own bin. **IMPORTANT:** MLLIB requires that no categorical feature have more than `maxBins` distinct values.\n",
    "- We fill up the missing values in each **categorical** feature with it's most common value. The missing values of a **numerical** feature are also replaced by the most common value (however, in some cases, a more sensible approach would be to use the median of this kind of feature).\n"
   ]
  },
  {
   "cell_type": "markdown",
   "metadata": {},
   "source": [
    "## 4.1 Mapping values of each categorical feature to indices"
   ]
  },
  {
   "cell_type": "markdown",
   "metadata": {},
   "source": [
    "![](https://farm2.staticflickr.com/1604/24934700445_833f0a5649_t.jpg)"
   ]
  },
  {
   "cell_type": "markdown",
   "metadata": {},
   "source": [
    "<div class='anchor' ></div>\n",
    "### Question 6 \n",
    "\n",
    "Among the selected features, `src_aiport`, `dest_airport`, `carrier` and `distance` have missing values. Besides, the first three of them are categorical features. That means, in order to use them as input features of MLLIB, the values of these features must be numberical. We can use a naïve approach: map each value of each feature to an unique index.\n",
    "\n",
    "#### Question 6.1\n",
    "Calculate the frequency of each source aiport in the data and build a dictionary that maps each of them to a unique index.\n",
    "\n",
    "Note: we sort the airports by their frequency in descending order, so that we can easily take the most common airport(s) by taking the first element(s) in the result."
   ]
  },
  {
   "cell_type": "markdown",
   "metadata": {},
   "source": [
    "```python\n",
    "# select distinct source airports and map values to index\n",
    "# sort the airport by their frequency descending\n",
    "# so the most common aiport will be on the top\n",
    "stat_src = (\n",
    "    df\n",
    "        .groupBy(...)\n",
    "        .agg(....alias('count'))\n",
    "        .orderBy(desc('count'))\n",
    "    )\n",
    "\n",
    "# extract the airport names from stat_src\n",
    "src_airports = [... for item in ....collect()]\n",
    "\n",
    "num_src_airports = len(...)\n",
    "src_airports_idx = range(0, ...)\n",
    "map_src_airport_to_index = dict(zip(..., ...))\n",
    "\n",
    "# test the dictionary\n",
    "print(map_src_airport_to_index['ORD'])\n",
    "print(map_src_airport_to_index['ATL'])\n",
    "```"
   ]
  },
  {
   "cell_type": "markdown",
   "metadata": {},
   "source": [
    "<div class='anchor' ></div>\n",
    "#### Question 6.2\n",
    "Calculate the frequency of each destination aiport in the data and build a dictionary that maps each of them to a unique index."
   ]
  },
  {
   "cell_type": "markdown",
   "metadata": {},
   "source": [
    "```python\n",
    "# select distinct destination airports and map values to index\n",
    "# sort the airport by their frequency descending\n",
    "# so the most common aiport will be on the top\n",
    "stat_dest = ...\n",
    "\n",
    "dest_airports = ...\n",
    "num_dest_airports = ...\n",
    "map_dest_airports_to_index = ...\n",
    "\n",
    "# test the dictionary\n",
    "print(map_src_airport_to_index['ORD'])\n",
    "print(map_src_airport_to_index['ATL'])\n",
    "```"
   ]
  },
  {
   "cell_type": "markdown",
   "metadata": {},
   "source": [
    "<div class='anchor' ></div>\n",
    "#### Question 6.3\n",
    "Calculate the frequency of each carrier in the data and build a dictionary that maps each of them to a unique index."
   ]
  },
  {
   "cell_type": "markdown",
   "metadata": {},
   "source": [
    "```python\n",
    "# select distinct carriers and map values to index\n",
    "# sort carriers by their frequency descending\n",
    "# so the most common aiport will be on the top\n",
    "...\n",
    "...\n",
    "...\n",
    "map_carriers_to_index = ...\n",
    "\n",
    "```"
   ]
  },
  {
   "cell_type": "markdown",
   "metadata": {},
   "source": [
    "## 4.2 Calculating the most common value of each feature\n",
    "We use a simple strategy for filling in the missing values : replacing them with the most common value of the corresponding feature.\n",
    "\n",
    "**IMPORTANT NOTE:** features like ```month```, ```day_of_month```, etc... can be treated as numerical features in general. However, when it comes to build the model, it is much easier considering them as categorical features. In this case, to compute the most common value for such categorical features, we simply use the frequency of occurrence of each `label`, and chose the most frequent."
   ]
  },
  {
   "cell_type": "markdown",
   "metadata": {},
   "source": [
    "![](https://farm2.staticflickr.com/1604/24934700445_833f0a5649_t.jpg)"
   ]
  },
  {
   "cell_type": "markdown",
   "metadata": {},
   "source": [
    "<div class='anchor' ></div>\n",
    "### Question 7\n",
    "In the previous question, when constructing the dictionary for categorical features, we also sort their statistical information in a such way that the most common value of each feature are placed on the top.\n",
    "\n",
    "Note that, feature `is_weekend` has the most common value set to `0` (that is, `no` the day is not a weekend)."
   ]
  },
  {
   "cell_type": "markdown",
   "metadata": {},
   "source": [
    "<div class='anchor' ></div>\n",
    "#### Question 7.1\n",
    "Find the most common value of feature `month` in data.\n",
    "\n"
   ]
  },
  {
   "cell_type": "markdown",
   "metadata": {},
   "source": [
    "```python\n",
    "the_most_common_month = (\n",
    "    df\n",
    "        .groupBy(...)\n",
    "        .agg(...)\n",
    "        .orderBy(desc('count'))\n",
    "    ).first()[0]\n",
    "\n",
    "print(\"The most common month:\", the_most_common_month)\n",
    "\n",
    "```"
   ]
  },
  {
   "cell_type": "markdown",
   "metadata": {},
   "source": [
    "<div class='anchor' ></div>\n",
    "#### Question 7.2\n",
    "Find the most common value of features `day_of_month` and `day_of_week`."
   ]
  },
  {
   "cell_type": "markdown",
   "metadata": {},
   "source": [
    "```python\n",
    "the_most_common_day_of_month = ...\n",
    "\n",
    "the_most_common_day_of_week = ...\n",
    "\n",
    "print(\"The most common day of month:\", the_most_common_day_of_month)\n",
    "print(\"The most common day of week:\", the_most_common_day_of_week)\n",
    "\n",
    "```"
   ]
  },
  {
   "cell_type": "markdown",
   "metadata": {},
   "source": [
    "<div class='anchor' ></div>\n",
    "#### Question 7.3\n",
    "Find the most common value of features `scheduled_departure_time` and `scheduled_arrival_time`."
   ]
  },
  {
   "cell_type": "markdown",
   "metadata": {},
   "source": [
    "```python\n",
    "the_most_common_s_departure_time = ...\n",
    "\n",
    "the_most_common_s_arrival_time = ...\n",
    "\n",
    "print(\"The most common scheduled departure time:\", the_most_common_s_departure_time)\n",
    "print(\"The most common scheduled arrival time:\", the_most_common_s_arrival_time)\n",
    "```"
   ]
  },
  {
   "cell_type": "markdown",
   "metadata": {},
   "source": [
    "<div class='anchor' ></div>\n",
    "#### Question 7.4\n",
    "Calculate the mean of distance in the data. This value will be used to fill in the missing values of feature `distance` later."
   ]
  },
  {
   "cell_type": "markdown",
   "metadata": {},
   "source": [
    "```python\n",
    "# calculate mean distance\n",
    "mean_distance = ...\n",
    "print(\"mean distance:\", mean_distance)\n",
    "```"
   ]
  },
  {
   "cell_type": "markdown",
   "metadata": {},
   "source": [
    "<div class='anchor' ></div>\n",
    "#### Question 7.5\n",
    "Calculate the mean of arrival delay."
   ]
  },
  {
   "cell_type": "markdown",
   "metadata": {},
   "source": [
    "```python\n",
    "# calculate mean arrival delay\n",
    "mean_arrival_delay = ...\n",
    "print(\"mean arrival delay:\", mean_arrival_delay)\n",
    "```"
   ]
  },
  {
   "cell_type": "markdown",
   "metadata": {},
   "source": [
    "As known from section 3.4, there are 225 different origin airports and 225 different destination airports, more than the number of bins in default configuration. So, we must set `maxBins` >= 225."
   ]
  },
  {
   "cell_type": "markdown",
   "metadata": {},
   "source": [
    "## 4.3 Preparing training data and testing data\n",
    "Recall, in this project we focus on decision trees. One way to think about our task is that we want to predict the unknown `arrival_delay` as a function combining several features, that is:\n",
    "\n",
    "`arrival_delay = f(year, month, day_of_month, day_of_week, scheduled_departure_time, scheduled_arrival_time, carrier, src_airport, dest_airport, distance, is_weekend)`\n",
    "\n",
    "When categorical features contain corrupt data (e.g., missing values), we proceed by replacing corrupt information with the most common value for the feature. For numerical features, in general, we use the same approach as for categorical features; in some cases, we repair corrupt data using the mean value of the distribution for numerical features (e.g., we found the mean for `delay` and `distance`, by answering questions above).\n",
    "\n",
    "The original data is split randomly into two parts with ratios 70% for **training** and 30% for **testing**."
   ]
  },
  {
   "cell_type": "markdown",
   "metadata": {},
   "source": [
    "![](https://farm2.staticflickr.com/1604/24934700445_833f0a5649_t.jpg)"
   ]
  },
  {
   "cell_type": "markdown",
   "metadata": {},
   "source": [
    "<div class='anchor' ></div>\n",
    "### Question 8\n",
    "- Replace the missing values of each feature in our data by the corresponding most common value or mean.\n",
    "- Divide data into two parts: 70% for training and 30% for testing"
   ]
  },
  {
   "cell_type": "markdown",
   "metadata": {},
   "source": [
    "```python\n",
    "from pyspark.mllib.tree import DecisionTree, DecisionTreeModel\n",
    "from pyspark.mllib.util import MLUtils\n",
    "from pyspark.mllib.regression import LabeledPoint\n",
    "\n",
    "\n",
    "def is_valid(value):\n",
    "    return value != \"NA\" and len(value) > 0\n",
    "\n",
    "data = cleaned_data\\\n",
    "    .map(lambda line: line.split(','))\\\n",
    "    .map(lambda values: \n",
    "        LabeledPoint( \n",
    "            int(values[14]) if is_valid(values[14]) else mean_arrival_delay, # arrival delay\n",
    "            [\n",
    "                int(values[0]), # year\n",
    "                int(values[1]) if is_valid(values[1]) else most_common_month, # month\n",
    "                ... if is_valid(...) else ..., # day of month\n",
    "                ... if is_valid(...) else ..., # day of week\n",
    "                ... , # scheduled departure time\n",
    "                ..., # scheduled arrival time\n",
    "                # if the value is valid, map it to the corresponding index\n",
    "                # otherwise, use the most common value\n",
    "                map_carriers_to_index[values[8]] if is_valid(values[8]) \\\n",
    "                    else map_carriers_to_index[carriers[0]], # carrier\n",
    "                map_src_airport_to_index[...], # src_airport\n",
    "                map_dest_airports_to_index[...], # destination_airport\n",
    "                int(values[18]) if is_valid(values[18]) else ..., # distance\n",
    "                1 if is_valid(values[3]) and int(values[3]) >= 6 else 0, # is_weekend\n",
    "            ]\n",
    "        )\n",
    "    )\n",
    "\n",
    "# Split the data into training and test sets (30% held out for testing)\n",
    "(trainingData, testData) = data.randomSplit(...)\n",
    "\n",
    "trainingData = trainingData.cache()\n",
    "testData = testData.cache()\n",
    "```"
   ]
  },
  {
   "cell_type": "markdown",
   "metadata": {},
   "source": [
    "## 5.4 Building a decision tree model"
   ]
  },
  {
   "cell_type": "markdown",
   "metadata": {},
   "source": [
    "![](https://farm2.staticflickr.com/1604/24934700445_833f0a5649_t.jpg)"
   ]
  },
  {
   "cell_type": "markdown",
   "metadata": {},
   "source": [
    "<div class='anchor' ></div>\n",
    "### Question 9\n",
    "We can train a decision model by using function `DecisionTree.trainRegressor(<training_data>, categoricalFeaturesInfo=<categorical_info>, impurity=<impurity_function>,  maxDepth=<max_depth>, maxBins=<max_bins>)`.\n",
    "\n",
    "Where,\n",
    "\n",
    "* `training_data` : the data used for training\n",
    "* `categorical_info` : a dictionary that maps the index of each categorical features to its number of distince values\n",
    "* `impurity_function` : the function that is used to calculate impurity of data in order to select the best split\n",
    "* `max_depth`: the maximum depth of the tree\n",
    "* `max_bins`: the maximum number of bins that the algorithm will divide on each feature. Note that, `max_bins` can not smaller than the number distinct values of every categorical features.\n",
    "\n",
    "Complete the code below to train a decision tree model.\n"
   ]
  },
  {
   "cell_type": "markdown",
   "metadata": {},
   "source": [
    "```python\n",
    "# declare information of categorical features\n",
    "# format:  feature_index : number_distinct_values\n",
    "categorical_info = {6 : num_carriers, 7: ..., ...: num_dest_airports, 10: ...}\n",
    "\n",
    "# Train a DecisionTree model.\n",
    "model = DecisionTree.trainRegressor(trainingData, \n",
    "                                    categoricalFeaturesInfo=...,\n",
    "                                    impurity='variance', maxDepth=12, maxBins=255)\n",
    "```"
   ]
  },
  {
   "cell_type": "markdown",
   "metadata": {
    "collapsed": true
   },
   "source": [
    "## 5.5 Testing the decision tree model"
   ]
  },
  {
   "cell_type": "markdown",
   "metadata": {},
   "source": [
    "![](https://farm2.staticflickr.com/1604/24934700445_833f0a5649_t.jpg)"
   ]
  },
  {
   "cell_type": "markdown",
   "metadata": {},
   "source": [
    "<div class='anchor' ></div>\n",
    "### Question 10\n",
    "#### Question 10.1\n",
    "We often use Mean Square Error as a metric to evaluate the quality of a tree model. Complete the code below to calculate the MSE of our trained model."
   ]
  },
  {
   "cell_type": "markdown",
   "metadata": {},
   "source": [
    "```python\n",
    "# Evaluate model on test instances and compute test error\n",
    "predictions = model.predict(testData.map(lambda x: x.features))\n",
    "labelsAndPredictions = testData.map(lambda lp: lp.label).zip(predictions)\n",
    "testMSE = labelsAndPredictions.map(\n",
    "    lambda p: ...)\n",
    "print('Test Mean Squared Error = ' + str(testMSE))\n",
    "```"
   ]
  },
  {
   "cell_type": "markdown",
   "metadata": {},
   "source": [
    "<div class='anchor' ></div>\n",
    "### Question 10.2\n",
    "Comment the results you have obtained. Is the MSE value you get from a decision tree indicating that our statistical model is very good in predicting airplane delays? Use your own words to describe and interpret the value you obtained for the MSE."
   ]
  },
  {
   "cell_type": "markdown",
   "metadata": {},
   "source": [
    "<div class=\"answer\">\n",
    "PUT YOUR ANSWER HERE !\n",
    "</div>"
   ]
  },
  {
   "cell_type": "markdown",
   "metadata": {},
   "source": [
    "## 5.6 Building random decision forest model (or random forest)\n",
    "Next, we use MLLib to build a more powerful model: random forests. In what follows, use the same predictors defined and computed above to build a decision tree, but this time use them to build a random decision forest."
   ]
  },
  {
   "cell_type": "markdown",
   "metadata": {},
   "source": [
    "![](https://farm2.staticflickr.com/1604/24934700445_833f0a5649_t.jpg)"
   ]
  },
  {
   "cell_type": "markdown",
   "metadata": {},
   "source": [
    "<div class='anchor' ></div>\n",
    "### Question 11\n",
    "Train a random decision forest model and evaluate its quality using MSE metric. Compare to decision tree model and comment the results. Similarly to question 10.2, comment with your own words the MSE value you have obtained."
   ]
  },
  {
   "cell_type": "markdown",
   "metadata": {},
   "source": [
    "```python\n",
    "from pyspark.mllib.tree import RandomForest, RandomForestModel\n",
    "\n",
    "# Train a RandomForest model.\n",
    "forest_model = RandomForest.trainRegressor(trainingData, categoricalFeaturesInfo=...,\n",
    "                                    numTrees=10, impurity='variance', maxDepth=12, maxBins=255)\n",
    "\n",
    "\n",
    "testMSE = ...\n",
    "print('Test Mean Squared Error = ' + str(testMSE))\n",
    "```"
   ]
  },
  {
   "cell_type": "markdown",
   "metadata": {},
   "source": [
    "<div class=\"comment\">\n",
    "PUT YOUR COMMENT HERE !\n",
    "</div>"
   ]
  },
  {
   "cell_type": "markdown",
   "metadata": {},
   "source": [
    "## 5.7 Parameter tuning\n",
    "In this lecture, we used `maxDepth=12`, `maxBins=255`, `numTrees=10`. Next, we are going to explore the meta-paramter space a little bit.\n",
    "\n",
    "For more information about parameter tunning, please read the documentation of [MLLIB](http://spark.apache.org/docs/latest/mllib-decision-tree.html#tunable-parameters)"
   ]
  },
  {
   "cell_type": "markdown",
   "metadata": {},
   "source": [
    "![](https://farm2.staticflickr.com/1604/24934700445_833f0a5649_t.jpg)"
   ]
  },
  {
   "cell_type": "markdown",
   "metadata": {},
   "source": [
    "<div class='anchor' ></div>\n",
    "\n",
    "### Question 12\n",
    "Train the random forest model using different parameters, to understand their impact on the main performance metric we have used here, that is the MSE. For example, you can try a similar approach to that presented in the Notebook on reccommender systems, that is using nested for loops.\n",
    "\n",
    "**NOTE:** be careful when selecting parameters as some might imply very long training times, or eventually, the typical memory problems that affect Spark!"
   ]
  },
  {
   "cell_type": "markdown",
   "metadata": {},
   "source": [
    "# 6. Addition (bonus) questions\n",
    "As you may have noticed, the performance of our statistical models is somehow questionable! What are we missing here? Why is that even using state-of-the-art approaches give poor results?\n",
    "\n",
    "In what follows, we will try to address some of the limitations of the present Notebook, and provide additional data that might help.\n",
    "\n",
    "## 6.1. Additional data\n",
    "In the HDFS file system you have used for running the Notebook, you will notice that there are several other years available (in addition to 1994), which could be used to train a statistical model with more data. In the end, we're playing with \"Big Data\", hence one might think that feeding more training data to the algorithm should help!\n",
    "\n",
    "## 6.2. Feature selection\n",
    "\n",
    "You might think that the flight delays do not only depend on the source aiport, destination airport, departure time, etc... as we assumed. They also depend on other features such as the weather, the origin country, the destination city,... To improve the prediction quality, we should consider these features too.\n",
    "\n",
    "There are some other datasets that related to this usecase:\n",
    "\n",
    "- Airport IATA Codes to City names and Coordinates mapping: http://stat-computing.org/dataexpo/2009/airports.csv\n",
    "- Carrier codes to Full name mapping: http://stat-computing.org/dataexpo/2009/carriers.csv\n",
    "- Information about individual planes: http://stat-computing.org/dataexpo/2009/plane-data.csv\n",
    "- Weather information: http://www.wunderground.com/weather/api/. You can subscribe for free to the developers API and obtain (at a limited rate) hystorical weather information in many different formats. Also, to get an idea of the kind of information is available, you can use this link: http://www.wunderground.com/history/\n"
   ]
  },
  {
   "cell_type": "markdown",
   "metadata": {},
   "source": [
    "![](https://farm2.staticflickr.com/1604/24934700445_833f0a5649_t.jpg)"
   ]
  },
  {
   "cell_type": "markdown",
   "metadata": {},
   "source": [
    "<div class='anchor' ></div>\n",
    "\n",
    "### Question 13\n",
    "Using the data sources above, select additional feature and repeat the process of defining an appropriate training and test datasets, to evaluate the impact of new features on the performance of the model. Focus first on decision trees, then move to random forests."
   ]
  },
  {
   "cell_type": "markdown",
   "metadata": {},
   "source": [
    "> The important thing is to not stop questioning. Curiosity has its own reason for existence. (Albert Einstein)\n",
    "\n",
    "<div class=\"note\">\n",
    "Be active ! Ask yourself other questions which help you explore more about this data and try to answer them. Make this notebook be a part of your CV !\n",
    "</div>"
   ]
  },
  {
   "cell_type": "markdown",
   "metadata": {
    "collapsed": true
   },
   "source": [
    "# Summary\n",
    "In this lecture, we've had an overview about Decision Trees, Random Forests and how to use them. We also insisted on a simple methodology to adopt when dealing with a Data Science problem. \n",
    "The main take home messages should be:\n",
    "\n",
    "* Feature selection is a difficult, delicate and important task. In this project, the student was heavily guided. However, we invite to exercise with additional features, for example external ones related to weather conditions.\n",
    "\n",
    "* Parameter tuning requires a deep understanding of the algorithm used to build a statistical model. In general, to reduce computational cost, several techniques introduce parameters that, if tuned properly, can lead to tremendous time savings."
   ]
  },
  {
   "cell_type": "code",
   "execution_count": null,
   "metadata": {
    "collapsed": true
   },
   "outputs": [],
   "source": []
  }
 ],
 "metadata": {
  "kernelspec": {
   "display_name": "Python 3",
   "language": "python",
   "name": "python3"
  },
  "language_info": {
   "codemirror_mode": {
    "name": "ipython",
    "version": 3
   },
   "file_extension": ".py",
   "mimetype": "text/x-python",
   "name": "python",
   "nbconvert_exporter": "python",
   "pygments_lexer": "ipython3",
   "version": "3.4.4"
  }
 },
 "nbformat": 4,
 "nbformat_minor": 0
}
